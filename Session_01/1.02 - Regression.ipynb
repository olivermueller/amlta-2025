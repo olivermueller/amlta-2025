{
 "cells": [
  {
   "cell_type": "markdown",
   "metadata": {
    "id": "LJrKCbjZsqpo"
   },
   "source": [
    "# <font color=\"#003660\">Applied Machine Learning for Text Analysis (M.184.5331)</font>\n"
   ]
  },
  {
   "cell_type": "markdown",
   "metadata": {
    "id": "V-DU0hkyVyPi"
   },
   "source": [
    "# <font color=\"#003660\">Session 1: Introduction to Natural Language Processing</font>"
   ]
  },
  {
   "cell_type": "markdown",
   "metadata": {
    "id": "mhy42GjRV3ON"
   },
   "source": [
    "# <font color=\"#003660\">Notebook 3: Regression</font>\n",
    "\n",
    "<center><br><img width=256 src=\"https://raw.githubusercontent.com/olivermueller/aml4ta-2021/main/resources/dag.png\"/><br></center>\n",
    "\n",
    "<p>\n",
    "<center>\n",
    "<div>\n",
    "    <font color=\"#085986\"><b>By the end of this lesson, you will be able to...</b><br><br>\n",
    "        ... transform raw text into a term-document matrix, <br>\n",
    "        ... train a regression model on the term-document matrix, and <br> ... and compete in a Kaggle competition.\n",
    "    </font>\n",
    "</div>\n",
    "</center>\n",
    "</p>"
   ]
  },
  {
   "cell_type": "markdown",
   "metadata": {
    "id": "C6vVpwIFsqps"
   },
   "source": [
    "# Import packages\n",
    "\n",
    "As always, we first need to load a number of required Python packages:\n",
    "- `pandas` provides high-performance, easy-to-use data structures and data analysis tools.\n",
    "- `spacy` offers industrial-strength natural language processing.\n",
    "- `sklearn` is the de-facto standard machine learning package in Python."
   ]
  },
  {
   "cell_type": "code",
   "execution_count": null,
   "metadata": {
    "id": "mMrhkr83sqpt"
   },
   "outputs": [],
   "source": [
    "import pandas as pd\n",
    "import spacy\n",
    "from sklearn.pipeline import Pipeline\n",
    "from sklearn.feature_extraction.text import CountVectorizer\n",
    "from sklearn.linear_model import LinearRegression\n",
    "from sklearn import metrics\n",
    "from sklearn.pipeline import Pipeline\n",
    "from sklearn.model_selection import GridSearchCV"
   ]
  },
  {
   "cell_type": "markdown",
   "metadata": {
    "id": "jZd82t53sqpu"
   },
   "source": [
    "# Load documents"
   ]
  },
  {
   "cell_type": "markdown",
   "metadata": {
    "id": "IsrCafxksqpv"
   },
   "source": [
    "Load wine reviews (Source: https://www.kaggle.com/datasets/zynicide/wine-reviews) from a csv file."
   ]
  },
  {
   "cell_type": "code",
   "execution_count": null,
   "metadata": {
    "id": "vSIGfKcXsqpv"
   },
   "outputs": [],
   "source": [
    "corpus = pd.read_csv(\"https://raw.githubusercontent.com/olivermueller/amlta-2025/main/Session_01/winemag-data-130k-v2.csv\")\n",
    "corpus.rename(columns = {'Unnamed: 0':'index'}, inplace = True)"
   ]
  },
  {
   "cell_type": "code",
   "execution_count": null,
   "metadata": {
    "id": "bMzZ9re_yY5K"
   },
   "outputs": [],
   "source": [
    "corpus.head()"
   ]
  },
  {
   "cell_type": "code",
   "execution_count": null,
   "metadata": {
    "id": "7NsIQrLiSEak"
   },
   "outputs": [],
   "source": [
    "corpus.shape"
   ]
  },
  {
   "cell_type": "markdown",
   "metadata": {
    "id": "1v8oiPAcsqpx"
   },
   "source": [
    "# Preprocess documents"
   ]
  },
  {
   "cell_type": "markdown",
   "metadata": {
    "id": "7psnR5cmQLBx"
   },
   "source": [
    "Split data into training, validation, and test set."
   ]
  },
  {
   "cell_type": "code",
   "execution_count": null,
   "metadata": {
    "id": "uSObnTaWdgdM"
   },
   "outputs": [],
   "source": [
    "training = corpus.iloc[0:80000,]\n",
    "validation = corpus.iloc[80000:100000,]\n",
    "test = corpus.iloc[100000:,]"
   ]
  },
  {
   "cell_type": "code",
   "execution_count": null,
   "metadata": {
    "id": "m05pjMr8Rvxs"
   },
   "outputs": [],
   "source": [
    "print(training.shape)\n",
    "print(validation.shape)\n",
    "print(test.shape)"
   ]
  },
  {
   "cell_type": "markdown",
   "metadata": {
    "id": "bSrHVdoZsqpy"
   },
   "source": [
    "Perform standard NLP preprocessing steps on the training set using spaCy. To speed up things, we disable some components of spaCy's standard NLP pipeline."
   ]
  },
  {
   "cell_type": "code",
   "execution_count": null,
   "metadata": {
    "id": "sh4KVmP6sqpy"
   },
   "outputs": [],
   "source": [
    "def spacy_prep_df(corpus):\n",
    "    nlp = spacy.load(\"en_core_web_sm\")\n",
    "    docs = corpus.to_dict(\"records\")\n",
    "    for i, entry in enumerate(docs):\n",
    "        if entry[\"description\"]:\n",
    "            doc = nlp(str(entry[\"description\"]), disable=['ner', 'parser'])\n",
    "            tokens_prep = []\n",
    "            for token in doc:\n",
    "                if token.is_alpha and not token.is_stop:\n",
    "                    tokens_prep.append(token.lemma_.lower())\n",
    "            entry[\"description_prep\"] = \" \".join(tokens_prep)\n",
    "        else:\n",
    "            entry[\"description_prep\"] = \"\"\n",
    "    return pd.DataFrame(docs)\n"
   ]
  },
  {
   "cell_type": "code",
   "execution_count": null,
   "metadata": {
    "id": "I4rKCZRs9tlj"
   },
   "outputs": [],
   "source": [
    "training = spacy_prep_df(training)"
   ]
  },
  {
   "cell_type": "markdown",
   "metadata": {
    "id": "9Tothp_Ssqpz"
   },
   "source": [
    "Display the first couple of lines of the preprocessed descriptions."
   ]
  },
  {
   "cell_type": "code",
   "execution_count": null,
   "metadata": {
    "id": "UyLoiearsqpz"
   },
   "outputs": [],
   "source": [
    "training[\"description_prep\"].head()"
   ]
  },
  {
   "cell_type": "markdown",
   "metadata": {
    "id": "QYQppmeBQUtX"
   },
   "source": [
    "# Vectorize documents"
   ]
  },
  {
   "cell_type": "markdown",
   "metadata": {
    "id": "uAXDnM1Hsqp1"
   },
   "source": [
    "Vectorize using a simple `CountVectorizer`."
   ]
  },
  {
   "cell_type": "code",
   "execution_count": null,
   "metadata": {
    "id": "WbeTq9S9sqp1"
   },
   "outputs": [],
   "source": [
    "count_vect = CountVectorizer(min_df=10)"
   ]
  },
  {
   "cell_type": "markdown",
   "metadata": {
    "id": "06DEGrExsqp1"
   },
   "source": [
    "Apply the CountVectorizer object to the review texts of the training set."
   ]
  },
  {
   "cell_type": "code",
   "execution_count": null,
   "metadata": {
    "id": "AemriJOAsqp1"
   },
   "outputs": [],
   "source": [
    "X_training = count_vect.fit_transform(training[\"description_prep\"].tolist())"
   ]
  },
  {
   "cell_type": "markdown",
   "metadata": {
    "id": "7QTlJ4BDsqp3"
   },
   "source": [
    "Store the labels that we want to predict in a separate variable."
   ]
  },
  {
   "cell_type": "code",
   "execution_count": null,
   "metadata": {
    "id": "gUpaU5Pgsqp3"
   },
   "outputs": [],
   "source": [
    "y_training = training[\"points\"]\n",
    "y_training.describe()"
   ]
  },
  {
   "cell_type": "markdown",
   "metadata": {
    "id": "biwWaNjNsqp4"
   },
   "source": [
    "# Train regressor on training set"
   ]
  },
  {
   "cell_type": "markdown",
   "metadata": {
    "id": "WTHaUsAosqp4"
   },
   "source": [
    "Fit a linear regression model with the term-document matrix as the features and the numeric wine quality (i.e., `points` variable) as the label."
   ]
  },
  {
   "cell_type": "code",
   "execution_count": null,
   "metadata": {
    "id": "YZkAh7oesqp4"
   },
   "outputs": [],
   "source": [
    "reg = LinearRegression().fit(X_training, y_training)"
   ]
  },
  {
   "cell_type": "markdown",
   "metadata": {
    "id": "tuAVWgC8sqp4"
   },
   "source": [
    "Test whether model is working by predicting the quality of a short fake review."
   ]
  },
  {
   "cell_type": "code",
   "execution_count": null,
   "metadata": {
    "id": "WrjU4Uj4-jpx"
   },
   "outputs": [],
   "source": [
    "doc_new = {'description': ['This is a good wine']}\n",
    "doc_new_df = pd.DataFrame.from_dict(doc_new)"
   ]
  },
  {
   "cell_type": "code",
   "execution_count": null,
   "metadata": {
    "id": "_B16iOiWsqp5"
   },
   "outputs": [],
   "source": [
    "doc_new_df_prep = spacy_prep_df(doc_new_df)\n",
    "doc_new_df_prep"
   ]
  },
  {
   "cell_type": "code",
   "execution_count": null,
   "metadata": {
    "id": "6sD7SeyD4nig"
   },
   "outputs": [],
   "source": [
    "X_new = count_vect.transform(doc_new_df_prep[\"description_prep\"])\n",
    "predicted = reg.predict(X_new)\n",
    "predicted"
   ]
  },
  {
   "cell_type": "markdown",
   "metadata": {
    "id": "663LU5XQsqp5"
   },
   "source": [
    "# Evaluate accuracy on test set"
   ]
  },
  {
   "cell_type": "code",
   "execution_count": null,
   "metadata": {
    "id": "mCZDzJOR51SZ"
   },
   "outputs": [],
   "source": [
    "test = spacy_prep_df(test)"
   ]
  },
  {
   "cell_type": "code",
   "execution_count": null,
   "metadata": {
    "id": "eiUIhoK0sqp6"
   },
   "outputs": [],
   "source": [
    "X_test = count_vect.transform(test[\"description_prep\"])\n",
    "y_test = test[\"points\"]"
   ]
  },
  {
   "cell_type": "markdown",
   "metadata": {
    "id": "1AodM56XE3TT"
   },
   "source": [
    "Before calculating the predictions of our model, let's first create a simple benchmark (i.e., always predicting the mean points of the training set)."
   ]
  },
  {
   "cell_type": "code",
   "execution_count": null,
   "metadata": {
    "id": "61O-npO7CEvn"
   },
   "outputs": [],
   "source": [
    "print(metrics.mean_absolute_error(y_test, [y_training.mean()]*len(y_test)))"
   ]
  },
  {
   "cell_type": "markdown",
   "metadata": {
    "id": "4upAshmAsqp6"
   },
   "source": [
    "Call the predict function of our model with the validation data and calculate MAE."
   ]
  },
  {
   "cell_type": "code",
   "execution_count": null,
   "metadata": {
    "id": "3Ngkprkgsqp6"
   },
   "outputs": [],
   "source": [
    "predictions_test = reg.predict(X_test)\n",
    "print(metrics.mean_absolute_error(y_test, predictions_test))"
   ]
  }
 ],
 "metadata": {
  "colab": {
   "provenance": [
    {
     "file_id": "1kHkaqxz9sVdaOC2i4FJVOOFW9cCiBkYu",
     "timestamp": 1635795339650
    }
   ]
  },
  "kernelspec": {
   "display_name": "amlta2025",
   "language": "python",
   "name": "python3"
  },
  "language_info": {
   "codemirror_mode": {
    "name": "ipython",
    "version": 3
   },
   "file_extension": ".py",
   "mimetype": "text/x-python",
   "name": "python",
   "nbconvert_exporter": "python",
   "pygments_lexer": "ipython3",
   "version": "3.10.18"
  }
 },
 "nbformat": 4,
 "nbformat_minor": 0
}
